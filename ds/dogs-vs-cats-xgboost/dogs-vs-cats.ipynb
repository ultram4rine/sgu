{
 "cells": [
  {
   "cell_type": "code",
   "execution_count": 2,
   "metadata": {},
   "outputs": [],
   "source": [
    "import pandas as pd\n",
    "from glob import glob\n",
    "import os\n",
    "from PIL import Image\n",
    "import numpy as np\n",
    "import random\n",
    "\n",
    "import gc"
   ]
  },
  {
   "cell_type": "code",
   "execution_count": 3,
   "metadata": {},
   "outputs": [],
   "source": [
    "from keras.applications.resnet50 import ResNet50\n",
    "from keras.preprocessing import image\n",
    "from keras.applications.resnet50 import preprocess_input, decode_predictions\n",
    "from xgboost import XGBClassifier\n",
    "from sklearn.model_selection import train_test_split\n",
    "from sklearn.metrics import accuracy_score\n",
    "\n",
    "random.seed(34)"
   ]
  },
  {
   "cell_type": "code",
   "execution_count": 4,
   "metadata": {},
   "outputs": [],
   "source": [
    "# Скачайте полные данные отсюда https://www.kaggle.com/c/dogs-vs-cats/data (примерно 820мб)\n",
    "# У вас должно быть две папки train и test. Однако в данном задании мы не будем использвать test выборку\n",
    "# Функцию для чтения данных мы реализовали за вас\n",
    "\n",
    "from tqdm.notebook import tqdm\n",
    "\n",
    "def read_dataset():\n",
    "    X = np.array([])\n",
    "    y = np.array([])\n",
    "\n",
    "    image_paths_list = random.sample(glob(os.path.join('data', 'train', '*.jpg')), 5000)\n",
    "    np.random.shuffle(image_paths_list)\n",
    "\n",
    "    for image_path_batch in tqdm(np.split(np.array(image_paths_list), int(len(image_paths_list) / 1000)), desc='Batches'):\n",
    "        x_batch = []\n",
    "        y_batch = []\n",
    "        \n",
    "        for image_path in tqdm(image_path_batch, desc='Current batch', leave=False):\n",
    "            image_name_parts = os.path.basename(image_path).split('.')\n",
    "            label = image_name_parts[0] if len(image_name_parts) == 3 else None\n",
    "            \n",
    "            if label:\n",
    "                y_batch.append(int(label == 'cat'))\n",
    "            \n",
    "            x = image.img_to_array(image.load_img(image_path, target_size=(224, 224)))\n",
    "            x_batch.append(x)\n",
    "\n",
    "        x_batch = preprocess_input(np.array(x_batch))\n",
    "        y_batch = np.array(y_batch)\n",
    "        \n",
    "        if X.size == 0:\n",
    "            X = x_batch\n",
    "            y = y_batch\n",
    "        else:\n",
    "            X = np.concatenate([X, x_batch], axis=0)\n",
    "            y = np.concatenate([y, y_batch], axis=0)\n",
    "    \n",
    "    return X, y"
   ]
  },
  {
   "cell_type": "markdown",
   "metadata": {},
   "source": [
    "Перепишите код read_dataset() таким образом чтобы читать изображения пачками по 1000 и сразу применять предобученный ResNet на них, сохраняя только полученные вектора как множество X. Примените эту функцию на всём датасете 25000 изображений."
   ]
  },
  {
   "cell_type": "code",
   "execution_count": 4,
   "metadata": {},
   "outputs": [
    {
     "output_type": "display_data",
     "data": {
      "text/plain": "Batches:   0%|          | 0/5 [00:00<?, ?it/s]",
      "application/vnd.jupyter.widget-view+json": {
       "version_major": 2,
       "version_minor": 0,
       "model_id": "d2f51a6c0bcb4ab28ef2d5f7d99b802b"
      }
     },
     "metadata": {}
    },
    {
     "output_type": "display_data",
     "data": {
      "text/plain": "Current batch:   0%|          | 0/1000 [00:00<?, ?it/s]",
      "application/vnd.jupyter.widget-view+json": {
       "version_major": 2,
       "version_minor": 0,
       "model_id": "4967bb33f51f479981870ecbf7db9f20"
      }
     },
     "metadata": {}
    },
    {
     "output_type": "display_data",
     "data": {
      "text/plain": "Current batch:   0%|          | 0/1000 [00:00<?, ?it/s]",
      "application/vnd.jupyter.widget-view+json": {
       "version_major": 2,
       "version_minor": 0,
       "model_id": "c928ab09cbff4deeabab496996819eed"
      }
     },
     "metadata": {}
    },
    {
     "output_type": "display_data",
     "data": {
      "text/plain": "Current batch:   0%|          | 0/1000 [00:00<?, ?it/s]",
      "application/vnd.jupyter.widget-view+json": {
       "version_major": 2,
       "version_minor": 0,
       "model_id": "52876d37895846bdb3f8e54376c05eb9"
      }
     },
     "metadata": {}
    },
    {
     "output_type": "display_data",
     "data": {
      "text/plain": "Current batch:   0%|          | 0/1000 [00:00<?, ?it/s]",
      "application/vnd.jupyter.widget-view+json": {
       "version_major": 2,
       "version_minor": 0,
       "model_id": "5e421295a92b4f3689762ef02ddc4199"
      }
     },
     "metadata": {}
    },
    {
     "output_type": "display_data",
     "data": {
      "text/plain": "Current batch:   0%|          | 0/1000 [00:00<?, ?it/s]",
      "application/vnd.jupyter.widget-view+json": {
       "version_major": 2,
       "version_minor": 0,
       "model_id": "5b0d6041d2e4426bbf8374edff0ad3e9"
      }
     },
     "metadata": {}
    },
    {
     "output_type": "stream",
     "name": "stdout",
     "text": [
      "5000 5000\n"
     ]
    },
    {
     "output_type": "execute_result",
     "data": {
      "text/plain": [
       "True"
      ]
     },
     "metadata": {},
     "execution_count": 4
    }
   ],
   "source": [
    "# Используйте функцию read_dataset чтобы получить обучающую выборку\n",
    "features, target = read_dataset()\n",
    "\n",
    "# Проверьте размерности загруженных данных\n",
    "print(features.shape, target.shape)\n"
   ]
  },
  {
   "cell_type": "code",
   "execution_count": 6,
   "metadata": {},
   "outputs": [
    {
     "output_type": "stream",
     "name": "stdout",
     "text": [
      "(5000, 224, 224, 3) (5000,)\n"
     ]
    },
    {
     "output_type": "execute_result",
     "data": {
      "text/plain": [
       "array([[[[-5.5939003e+01, -8.4778999e+01, -8.0680000e+01],\n",
       "         [-5.5939003e+01, -8.4778999e+01, -8.0680000e+01],\n",
       "         [-5.5939003e+01, -8.4778999e+01, -8.0680000e+01],\n",
       "         ...,\n",
       "         [-7.3939003e+01, -8.8778999e+01, -1.0568000e+02],\n",
       "         [-7.0939003e+01, -9.7778999e+01, -9.8680000e+01],\n",
       "         [-7.3939003e+01, -1.0077900e+02, -1.0168000e+02]],\n",
       "\n",
       "        [[-5.5939003e+01, -8.4778999e+01, -8.0680000e+01],\n",
       "         [-5.5939003e+01, -8.4778999e+01, -8.0680000e+01],\n",
       "         [-5.5939003e+01, -8.4778999e+01, -8.0680000e+01],\n",
       "         ...,\n",
       "         [-7.6939003e+01, -9.4778999e+01, -1.0468000e+02],\n",
       "         [-7.1939003e+01, -9.5778999e+01, -9.9680000e+01],\n",
       "         [-7.4939003e+01, -9.8778999e+01, -1.0268000e+02]],\n",
       "\n",
       "        [[-5.5939003e+01, -8.5778999e+01, -7.9680000e+01],\n",
       "         [-5.5939003e+01, -8.5778999e+01, -7.9680000e+01],\n",
       "         [-5.5939003e+01, -8.5778999e+01, -7.9680000e+01],\n",
       "         ...,\n",
       "         [-8.1939003e+01, -1.0577900e+02, -9.6680000e+01],\n",
       "         [-8.0939003e+01, -9.9778999e+01, -1.0568000e+02],\n",
       "         [-8.1939003e+01, -1.0077900e+02, -1.0668000e+02]],\n",
       "\n",
       "        ...,\n",
       "\n",
       "        [[ 8.6060997e+01,  1.5221001e+01,  4.9320000e+01],\n",
       "         [ 7.4060997e+01,  9.2210007e+00,  4.2320000e+01],\n",
       "         [ 6.5060997e+01,  8.2210007e+00,  4.2320000e+01],\n",
       "         ...,\n",
       "         [ 7.3060997e+01,  1.2221001e+01,  5.3320000e+01],\n",
       "         [ 7.7060997e+01,  1.2221001e+01,  5.8320000e+01],\n",
       "         [ 7.6060997e+01,  1.1221001e+01,  5.7320000e+01]],\n",
       "\n",
       "        [[ 9.7060997e+01,  2.2221001e+01,  5.5320000e+01],\n",
       "         [ 7.8060997e+01,  1.8221001e+01,  5.0320000e+01],\n",
       "         [ 6.7060997e+01,  1.9221001e+01,  5.2320000e+01],\n",
       "         ...,\n",
       "         [ 7.5060997e+01,  1.4221001e+01,  5.5320000e+01],\n",
       "         [ 7.5060997e+01,  1.0221001e+01,  5.6320000e+01],\n",
       "         [ 7.4060997e+01,  9.2210007e+00,  5.5320000e+01]],\n",
       "\n",
       "        [[ 8.4060997e+01,  1.9221001e+01,  5.9320000e+01],\n",
       "         [ 8.5060997e+01,  2.0221001e+01,  6.0320000e+01],\n",
       "         [ 8.6060997e+01,  2.1221001e+01,  6.1320000e+01],\n",
       "         ...,\n",
       "         [ 7.0060997e+01,  8.2210007e+00,  5.3320000e+01],\n",
       "         [ 7.1060997e+01,  1.3221001e+01,  5.5320000e+01],\n",
       "         [ 7.1060997e+01,  1.3221001e+01,  5.5320000e+01]]],\n",
       "\n",
       "\n",
       "       [[[-9.9390030e+00, -2.2778999e+01, -2.9680000e+01],\n",
       "         [ 4.0609970e+00, -6.7789993e+00, -1.2680000e+01],\n",
       "         [ 1.9060997e+01,  8.2210007e+00,  2.3199997e+00],\n",
       "         ...,\n",
       "         [-9.3900299e-01,  3.2210007e+00,  9.3199997e+00],\n",
       "         [-1.7939003e+01, -1.3778999e+01, -7.6800003e+00],\n",
       "         [-2.2939003e+01, -1.8778999e+01, -1.2680000e+01]],\n",
       "\n",
       "        [[-2.3939003e+01, -3.4778999e+01, -4.0680000e+01],\n",
       "         [-2.8939003e+01, -3.9778999e+01, -4.5680000e+01],\n",
       "         [-2.6939003e+01, -3.7778999e+01, -4.3680000e+01],\n",
       "         ...,\n",
       "         [-2.8939003e+01, -2.4778999e+01, -1.8680000e+01],\n",
       "         [-1.0939003e+01, -6.7789993e+00, -6.8000031e-01],\n",
       "         [-9.9390030e+00, -5.7789993e+00,  3.1999969e-01]],\n",
       "\n",
       "        [[-2.1939003e+01, -3.2778999e+01, -3.8680000e+01],\n",
       "         [-2.2939003e+01, -3.3778999e+01, -3.9680000e+01],\n",
       "         [-2.5939003e+01, -3.5778999e+01, -3.8680000e+01],\n",
       "         ...,\n",
       "         [-4.7939003e+01, -4.3778999e+01, -3.7680000e+01],\n",
       "         [-3.4939003e+01, -3.0778999e+01, -2.4680000e+01],\n",
       "         [-3.9390030e+00,  2.2100067e-01,  6.3199997e+00]],\n",
       "\n",
       "        ...,\n",
       "\n",
       "        [[ 3.0609970e+00, -6.7789993e+00, -1.5680000e+01],\n",
       "         [ 5.0609970e+00, -4.7789993e+00, -1.3680000e+01],\n",
       "         [ 2.3060997e+01,  1.3221001e+01,  4.3199997e+00],\n",
       "         ...,\n",
       "         [ 2.8060997e+01,  2.8221001e+01,  3.5320000e+01],\n",
       "         [ 2.4060997e+01,  2.4221001e+01,  3.1320000e+01],\n",
       "         [ 2.0060997e+01,  2.0221001e+01,  2.7320000e+01]],\n",
       "\n",
       "        [[ 2.3060997e+01,  1.3221001e+01,  4.3199997e+00],\n",
       "         [ 2.2060997e+01,  1.2221001e+01,  3.3199997e+00],\n",
       "         [ 1.7060997e+01,  7.2210007e+00, -1.6800003e+00],\n",
       "         ...,\n",
       "         [ 1.8060997e+01,  1.8221001e+01,  2.5320000e+01],\n",
       "         [ 9.0609970e+00,  9.2210007e+00,  1.6320000e+01],\n",
       "         [ 2.5060997e+01,  2.5221001e+01,  3.2320000e+01]],\n",
       "\n",
       "        [[ 1.9060997e+01,  1.0221001e+01, -1.6800003e+00],\n",
       "         [ 1.9060997e+01,  1.0221001e+01, -1.6800003e+00],\n",
       "         [ 1.4060997e+01,  5.2210007e+00, -6.6800003e+00],\n",
       "         ...,\n",
       "         [ 2.5060997e+01,  2.5221001e+01,  3.2320000e+01],\n",
       "         [ 1.4060997e+01,  1.4221001e+01,  2.1320000e+01],\n",
       "         [ 2.6060997e+01,  2.6221001e+01,  3.3320000e+01]]],\n",
       "\n",
       "\n",
       "       [[[-4.5939003e+01, -4.5778999e+01, -3.8680000e+01],\n",
       "         [-4.5939003e+01, -4.5778999e+01, -3.8680000e+01],\n",
       "         [-4.3939003e+01, -4.3778999e+01, -3.6680000e+01],\n",
       "         ...,\n",
       "         [-5.0939003e+01, -6.3778999e+01, -5.6680000e+01],\n",
       "         [-4.9939003e+01, -6.2778999e+01, -5.5680000e+01],\n",
       "         [-4.8939003e+01, -6.1778999e+01, -5.4680000e+01]],\n",
       "\n",
       "        [[-4.3939003e+01, -4.3778999e+01, -3.6680000e+01],\n",
       "         [-4.3939003e+01, -4.3778999e+01, -3.6680000e+01],\n",
       "         [-4.2939003e+01, -4.2778999e+01, -3.5680000e+01],\n",
       "         ...,\n",
       "         [-5.1939003e+01, -6.7778999e+01, -5.9680000e+01],\n",
       "         [-5.1939003e+01, -6.7778999e+01, -5.9680000e+01],\n",
       "         [-5.0939003e+01, -6.6778999e+01, -5.8680000e+01]],\n",
       "\n",
       "        [[-4.4939003e+01, -4.6778999e+01, -3.9680000e+01],\n",
       "         [-4.3939003e+01, -4.5778999e+01, -3.8680000e+01],\n",
       "         [-4.1939003e+01, -4.3778999e+01, -3.6680000e+01],\n",
       "         ...,\n",
       "         [-4.6939003e+01, -6.1778999e+01, -5.6680000e+01],\n",
       "         [-4.6939003e+01, -6.1778999e+01, -5.6680000e+01],\n",
       "         [-4.6939003e+01, -6.1778999e+01, -5.6680000e+01]],\n",
       "\n",
       "        ...,\n",
       "\n",
       "        [[ 6.5060997e+01,  6.1221001e+01,  6.4320000e+01],\n",
       "         [ 6.3060997e+01,  5.9221001e+01,  6.2320000e+01],\n",
       "         [ 5.7060997e+01,  5.3221001e+01,  5.6320000e+01],\n",
       "         ...,\n",
       "         [ 6.2060997e+01,  6.3221001e+01,  6.2320000e+01],\n",
       "         [ 5.9060997e+01,  6.0221001e+01,  5.9320000e+01],\n",
       "         [ 5.8060997e+01,  5.9221001e+01,  5.8320000e+01]],\n",
       "\n",
       "        [[ 6.1060997e+01,  5.7221001e+01,  6.0320000e+01],\n",
       "         [ 6.1060997e+01,  5.7221001e+01,  6.0320000e+01],\n",
       "         [ 6.0060997e+01,  5.7221001e+01,  6.0320000e+01],\n",
       "         ...,\n",
       "         [ 6.1060997e+01,  6.2221001e+01,  6.1320000e+01],\n",
       "         [ 5.1060997e+01,  5.2221001e+01,  5.1320000e+01],\n",
       "         [ 4.6060997e+01,  4.7221001e+01,  4.6320000e+01]],\n",
       "\n",
       "        [[ 6.4060997e+01,  5.7221001e+01,  5.7320000e+01],\n",
       "         [ 6.9060997e+01,  6.2221001e+01,  6.2320000e+01],\n",
       "         [ 6.4060997e+01,  5.8221001e+01,  6.0320000e+01],\n",
       "         ...,\n",
       "         [ 5.8060997e+01,  5.4221001e+01,  6.1320000e+01],\n",
       "         [ 4.6060997e+01,  4.2221001e+01,  4.9320000e+01],\n",
       "         [ 4.2060997e+01,  3.8221001e+01,  4.5320000e+01]]],\n",
       "\n",
       "\n",
       "       ...,\n",
       "\n",
       "\n",
       "       [[[-2.4939003e+01,  5.8221001e+01,  1.1320000e+01],\n",
       "         [ 3.2060997e+01,  8.7221001e+01,  5.7320000e+01],\n",
       "         [ 2.0609970e+00,  3.3221001e+01,  1.3320000e+01],\n",
       "         ...,\n",
       "         [-4.6939003e+01,  2.4221001e+01, -2.4680000e+01],\n",
       "         [-2.9939003e+01,  3.6221001e+01, -1.1680000e+01],\n",
       "         [-4.2939003e+01,  2.9221001e+01, -9.6800003e+00]],\n",
       "\n",
       "        [[-3.3939003e+01,  5.0221001e+01,  3.3199997e+00],\n",
       "         [-1.5939003e+01,  4.3221001e+01,  1.4320000e+01],\n",
       "         [ 4.0609970e+00,  4.1221001e+01,  2.2320000e+01],\n",
       "         ...,\n",
       "         [-2.5939003e+01,  4.3221001e+01, -5.6800003e+00],\n",
       "         [-2.6939003e+01,  3.8221001e+01, -9.6800003e+00],\n",
       "         [-4.5939003e+01,  2.5221001e+01, -1.5680000e+01]],\n",
       "\n",
       "        [[-4.3939003e+01,  4.2221001e+01, -2.6800003e+00],\n",
       "         [-2.7939003e+01,  3.9221001e+01,  9.3199997e+00],\n",
       "         [ 3.5060997e+01,  8.3221001e+01,  6.2320000e+01],\n",
       "         ...,\n",
       "         [-2.5939003e+01,  3.9221001e+01, -8.6800003e+00],\n",
       "         [-5.9390030e+00,  5.7221001e+01,  9.3199997e+00],\n",
       "         [-5.5939003e+01,  9.2210007e+00, -3.4680000e+01]],\n",
       "\n",
       "        ...,\n",
       "\n",
       "        [[ 1.1060997e+01,  5.3221001e+01,  5.1320000e+01],\n",
       "         [-2.7939003e+01,  3.2210007e+00, -4.6800003e+00],\n",
       "         [ 1.4060997e+01,  4.3221001e+01,  2.5320000e+01],\n",
       "         ...,\n",
       "         [-6.3939003e+01, -1.4778999e+01, -3.7680000e+01],\n",
       "         [ 4.0609970e+00,  4.3221001e+01,  1.8320000e+01],\n",
       "         [-7.4939003e+01, -1.4778999e+01, -3.7680000e+01]],\n",
       "\n",
       "        [[ 2.0060997e+01,  6.6221001e+01,  6.1320000e+01],\n",
       "         [-9.9390030e+00,  2.9221001e+01,  1.5320000e+01],\n",
       "         [ 2.2060997e+01,  6.0221001e+01,  3.9320000e+01],\n",
       "         ...,\n",
       "         [-7.3939003e+01, -2.7778999e+01, -4.9680000e+01],\n",
       "         [-7.1939003e+01, -3.4778999e+01, -5.9680000e+01],\n",
       "         [-2.9939003e+01,  3.2221001e+01,  3.3199997e+00]],\n",
       "\n",
       "        [[-8.9390030e+00,  3.7221001e+01,  3.2320000e+01],\n",
       "         [-2.0939003e+01,  2.0221001e+01,  6.3199997e+00],\n",
       "         [-2.4939003e+01,  2.0221001e+01, -4.6800003e+00],\n",
       "         ...,\n",
       "         [-4.0939003e+01,  4.2210007e+00, -2.0680000e+01],\n",
       "         [-1.0393900e+02, -7.0778999e+01, -9.7680000e+01],\n",
       "         [ 2.1060997e+01,  7.3221001e+01,  4.1320000e+01]]],\n",
       "\n",
       "\n",
       "       [[[ 2.0609970e+00, -1.7789993e+00, -4.6800003e+00],\n",
       "         [ 1.4060997e+01,  1.1221001e+01,  4.3199997e+00],\n",
       "         [ 2.2060997e+01,  2.0221001e+01,  1.0320000e+01],\n",
       "         ...,\n",
       "         [ 5.2060997e+01,  3.9221001e+01,  5.0320000e+01],\n",
       "         [ 5.1060997e+01,  4.4221001e+01,  5.0320000e+01],\n",
       "         [ 2.8060997e+01,  2.1221001e+01,  2.7320000e+01]],\n",
       "\n",
       "        [[ 4.0609970e+00, -2.7789993e+00, -4.6800003e+00],\n",
       "         [ 1.5060997e+01,  1.0221001e+01,  3.3199997e+00],\n",
       "         [ 2.3060997e+01,  1.9221001e+01,  9.3199997e+00],\n",
       "         ...,\n",
       "         [ 5.1060997e+01,  3.8221001e+01,  4.7320000e+01],\n",
       "         [ 5.2060997e+01,  4.5221001e+01,  4.9320000e+01],\n",
       "         [ 2.8060997e+01,  2.1221001e+01,  2.5320000e+01]],\n",
       "\n",
       "        [[ 7.0609970e+00, -2.7789993e+00, -4.6800003e+00],\n",
       "         [ 1.5060997e+01,  5.2210007e+00,  2.3199997e+00],\n",
       "         [ 2.4060997e+01,  1.6221001e+01,  8.3199997e+00],\n",
       "         ...,\n",
       "         [ 4.7060997e+01,  3.8221001e+01,  4.2320000e+01],\n",
       "         [ 5.1060997e+01,  4.5221001e+01,  4.7320000e+01],\n",
       "         [ 2.7060997e+01,  2.1221001e+01,  2.3320000e+01]],\n",
       "\n",
       "        ...,\n",
       "\n",
       "        [[ 6.0997009e-02, -4.7789993e+00, -4.6800003e+00],\n",
       "         [ 6.0997009e-02, -4.7789993e+00, -4.6800003e+00],\n",
       "         [ 6.0997009e-02, -4.7789993e+00, -4.6800003e+00],\n",
       "         ...,\n",
       "         [-9.3900299e-01,  7.2210007e+00,  2.2320000e+01],\n",
       "         [ 2.0609970e+00,  1.0221001e+01,  2.5320000e+01],\n",
       "         [ 4.0609970e+00,  1.2221001e+01,  2.7320000e+01]],\n",
       "\n",
       "        [[-9.3900299e-01, -5.7789993e+00, -5.6800003e+00],\n",
       "         [-9.3900299e-01, -5.7789993e+00, -5.6800003e+00],\n",
       "         [-9.3900299e-01, -5.7789993e+00, -5.6800003e+00],\n",
       "         ...,\n",
       "         [-2.9390030e+00,  5.2210007e+00,  2.0320000e+01],\n",
       "         [-2.9390030e+00,  5.2210007e+00,  2.0320000e+01],\n",
       "         [-9.3900299e-01,  7.2210007e+00,  2.2320000e+01]],\n",
       "\n",
       "        [[-1.9390030e+00, -6.7789993e+00, -6.6800003e+00],\n",
       "         [-1.9390030e+00, -6.7789993e+00, -6.6800003e+00],\n",
       "         [-1.9390030e+00, -6.7789993e+00, -6.6800003e+00],\n",
       "         ...,\n",
       "         [-5.9390030e+00,  2.2210007e+00,  1.7320000e+01],\n",
       "         [-4.9390030e+00,  3.2210007e+00,  1.8320000e+01],\n",
       "         [-2.9390030e+00,  5.2210007e+00,  2.0320000e+01]]],\n",
       "\n",
       "\n",
       "       [[[-7.9390030e+00,  2.2100067e-01,  1.5320000e+01],\n",
       "         [-7.9390030e+00,  2.2100067e-01,  1.5320000e+01],\n",
       "         [-7.9390030e+00,  2.2100067e-01,  1.5320000e+01],\n",
       "         ...,\n",
       "         [ 1.9060997e+01,  2.4221001e+01,  3.4320000e+01],\n",
       "         [ 1.9060997e+01,  2.4221001e+01,  3.4320000e+01],\n",
       "         [ 2.1060997e+01,  2.4221001e+01,  3.4320000e+01]],\n",
       "\n",
       "        [[-7.9390030e+00,  2.2100067e-01,  1.5320000e+01],\n",
       "         [-7.9390030e+00,  2.2100067e-01,  1.5320000e+01],\n",
       "         [-7.9390030e+00,  2.2100067e-01,  1.5320000e+01],\n",
       "         ...,\n",
       "         [ 1.7060997e+01,  2.2221001e+01,  3.2320000e+01],\n",
       "         [ 1.7060997e+01,  2.2221001e+01,  3.2320000e+01],\n",
       "         [ 1.9060997e+01,  2.2221001e+01,  3.2320000e+01]],\n",
       "\n",
       "        [[-6.9390030e+00,  1.2210007e+00,  1.6320000e+01],\n",
       "         [-6.9390030e+00,  1.2210007e+00,  1.6320000e+01],\n",
       "         [-6.9390030e+00,  1.2210007e+00,  1.6320000e+01],\n",
       "         ...,\n",
       "         [ 1.6060997e+01,  2.1221001e+01,  3.1320000e+01],\n",
       "         [ 1.6060997e+01,  2.1221001e+01,  3.1320000e+01],\n",
       "         [ 1.8060997e+01,  2.1221001e+01,  3.1320000e+01]],\n",
       "\n",
       "        ...,\n",
       "\n",
       "        [[ 1.1206100e+02,  7.9221001e+01,  9.5320000e+01],\n",
       "         [ 1.0806100e+02,  7.5221001e+01,  9.1320000e+01],\n",
       "         [ 1.1206100e+02,  7.7221001e+01,  9.8320000e+01],\n",
       "         ...,\n",
       "         [ 1.1606100e+02,  8.3221001e+01,  8.9320000e+01],\n",
       "         [ 1.1606100e+02,  8.3221001e+01,  8.9320000e+01],\n",
       "         [ 1.1606100e+02,  8.3221001e+01,  8.9320000e+01]],\n",
       "\n",
       "        [[ 1.1206100e+02,  7.9221001e+01,  9.5320000e+01],\n",
       "         [ 1.0806100e+02,  7.5221001e+01,  9.1320000e+01],\n",
       "         [ 1.1206100e+02,  7.7221001e+01,  9.8320000e+01],\n",
       "         ...,\n",
       "         [ 1.1606100e+02,  8.3221001e+01,  8.9320000e+01],\n",
       "         [ 1.1606100e+02,  8.3221001e+01,  8.9320000e+01],\n",
       "         [ 1.1606100e+02,  8.3221001e+01,  8.9320000e+01]],\n",
       "\n",
       "        [[ 1.1206100e+02,  7.9221001e+01,  9.5320000e+01],\n",
       "         [ 1.0806100e+02,  7.5221001e+01,  9.1320000e+01],\n",
       "         [ 1.1206100e+02,  7.7221001e+01,  9.8320000e+01],\n",
       "         ...,\n",
       "         [ 1.1606100e+02,  8.3221001e+01,  8.9320000e+01],\n",
       "         [ 1.1606100e+02,  8.3221001e+01,  8.9320000e+01],\n",
       "         [ 1.1606100e+02,  8.3221001e+01,  8.9320000e+01]]]],\n",
       "      dtype=float32)"
      ]
     },
     "metadata": {},
     "execution_count": 6
    }
   ],
   "source": [
    "# с помощью функции train_test_split поделите выборку на train и test в отношении 70/30\n",
    "# В качестве признаков используйте эмбеддинги, полученные на предыдущем шаге\n",
    "\n",
    "features_train, features_test, target_train, target_test = train_test_split(features, target, train_size=0.7, test_size=0.3, random_state=42)\n",
    "\n",
    "del features\n",
    "del target\n",
    "gc.collect()\n",
    "\n",
    "features_train"
   ]
  },
  {
   "cell_type": "code",
   "execution_count": 1,
   "metadata": {},
   "outputs": [
    {
     "output_type": "error",
     "ename": "NameError",
     "evalue": "name 'features' is not defined",
     "traceback": [
      "\u001b[0;31m---------------------------------------------------------------------------\u001b[0m",
      "\u001b[0;31mNameError\u001b[0m                                 Traceback (most recent call last)",
      "\u001b[0;32m<ipython-input-1-970b19fc5e76>\u001b[0m in \u001b[0;36m<module>\u001b[0;34m\u001b[0m\n\u001b[1;32m      1\u001b[0m \u001b[0;32mimport\u001b[0m \u001b[0mgc\u001b[0m\u001b[0;34m\u001b[0m\u001b[0;34m\u001b[0m\u001b[0m\n\u001b[1;32m      2\u001b[0m \u001b[0;34m\u001b[0m\u001b[0m\n\u001b[0;32m----> 3\u001b[0;31m \u001b[0;32mdel\u001b[0m \u001b[0mfeatures\u001b[0m\u001b[0;34m\u001b[0m\u001b[0;34m\u001b[0m\u001b[0m\n\u001b[0m\u001b[1;32m      4\u001b[0m \u001b[0;32mdel\u001b[0m \u001b[0mtarget\u001b[0m\u001b[0;34m\u001b[0m\u001b[0;34m\u001b[0m\u001b[0m\n\u001b[1;32m      5\u001b[0m \u001b[0mgc\u001b[0m\u001b[0;34m.\u001b[0m\u001b[0mcollect\u001b[0m\u001b[0;34m(\u001b[0m\u001b[0;34m)\u001b[0m\u001b[0;34m\u001b[0m\u001b[0;34m\u001b[0m\u001b[0m\n",
      "\u001b[0;31mNameError\u001b[0m: name 'features' is not defined"
     ]
    }
   ],
   "source": [
    "# Создаём модель для получения эмбеддингов\n",
    "model = ResNet50(weights='imagenet')\n",
    "\n",
    "# Используя объект model постройте эмбеддинги для обучающей выборки\n",
    "%time embds_train = model.predict(features_train)\n",
    "%time embds_test = model.predict(features_test)\n",
    "\n",
    "del features_train\n",
    "del features_test\n",
    "gc.collect()"
   ]
  },
  {
   "cell_type": "markdown",
   "metadata": {},
   "source": [
    "\n",
    "\n",
    "Создайте объект XGBClassifier со стандартными параметрами\n",
    "\n",
    "https://xgboost.readthedocs.io/en/latest/python/python_api.html#xgboost.XGBClassifier\n",
    "\n",
    "Обучите его"
   ]
  },
  {
   "cell_type": "code",
   "execution_count": 42,
   "metadata": {},
   "outputs": [
    {
     "output_type": "stream",
     "name": "stderr",
     "text": [
      "/home/ultra/.local/lib/python3.8/site-packages/xgboost/sklearn.py:888: UserWarning: The use of label encoder in XGBClassifier is deprecated and will be removed in a future release. To remove this warning, do the following: 1) Pass option use_label_encoder=False when constructing XGBClassifier object; and 2) Encode your labels (y) as integers starting with 0, i.e. 0, 1, 2, ..., [num_class - 1].\n  warnings.warn(label_encoder_deprecation_msg, UserWarning)\n"
     ]
    },
    {
     "output_type": "error",
     "ename": "ValueError",
     "evalue": "y should be a 1d array, got an array of shape (1, 1000) instead.",
     "traceback": [
      "\u001b[0;31m---------------------------------------------------------------------------\u001b[0m",
      "\u001b[0;31mValueError\u001b[0m                                Traceback (most recent call last)",
      "\u001b[0;32m<ipython-input-42-a0f423932775>\u001b[0m in \u001b[0;36m<module>\u001b[0;34m\u001b[0m\n\u001b[1;32m      1\u001b[0m \u001b[0;31m# Получите предсказания на тестовом и на обучающем множестве\u001b[0m\u001b[0;34m\u001b[0m\u001b[0;34m\u001b[0m\u001b[0;34m\u001b[0m\u001b[0m\n\u001b[1;32m      2\u001b[0m \u001b[0mclf\u001b[0m \u001b[0;34m=\u001b[0m \u001b[0mXGBClassifier\u001b[0m\u001b[0;34m(\u001b[0m\u001b[0;34m)\u001b[0m\u001b[0;34m\u001b[0m\u001b[0;34m\u001b[0m\u001b[0m\n\u001b[0;32m----> 3\u001b[0;31m \u001b[0mclf\u001b[0m\u001b[0;34m.\u001b[0m\u001b[0mfit\u001b[0m\u001b[0;34m(\u001b[0m\u001b[0mfeatures_train\u001b[0m\u001b[0;34m,\u001b[0m \u001b[0mtarget_train\u001b[0m\u001b[0;34m)\u001b[0m\u001b[0;34m\u001b[0m\u001b[0;34m\u001b[0m\u001b[0m\n\u001b[0m",
      "\u001b[0;32m~/.local/lib/python3.8/site-packages/xgboost/core.py\u001b[0m in \u001b[0;36minner_f\u001b[0;34m(*args, **kwargs)\u001b[0m\n\u001b[1;32m    420\u001b[0m         \u001b[0;32mfor\u001b[0m \u001b[0mk\u001b[0m\u001b[0;34m,\u001b[0m \u001b[0marg\u001b[0m \u001b[0;32min\u001b[0m \u001b[0mzip\u001b[0m\u001b[0;34m(\u001b[0m\u001b[0msig\u001b[0m\u001b[0;34m.\u001b[0m\u001b[0mparameters\u001b[0m\u001b[0;34m,\u001b[0m \u001b[0margs\u001b[0m\u001b[0;34m)\u001b[0m\u001b[0;34m:\u001b[0m\u001b[0;34m\u001b[0m\u001b[0;34m\u001b[0m\u001b[0m\n\u001b[1;32m    421\u001b[0m             \u001b[0mkwargs\u001b[0m\u001b[0;34m[\u001b[0m\u001b[0mk\u001b[0m\u001b[0;34m]\u001b[0m \u001b[0;34m=\u001b[0m \u001b[0marg\u001b[0m\u001b[0;34m\u001b[0m\u001b[0;34m\u001b[0m\u001b[0m\n\u001b[0;32m--> 422\u001b[0;31m         \u001b[0;32mreturn\u001b[0m \u001b[0mf\u001b[0m\u001b[0;34m(\u001b[0m\u001b[0;34m**\u001b[0m\u001b[0mkwargs\u001b[0m\u001b[0;34m)\u001b[0m\u001b[0;34m\u001b[0m\u001b[0;34m\u001b[0m\u001b[0m\n\u001b[0m\u001b[1;32m    423\u001b[0m \u001b[0;34m\u001b[0m\u001b[0m\n\u001b[1;32m    424\u001b[0m     \u001b[0;32mreturn\u001b[0m \u001b[0minner_f\u001b[0m\u001b[0;34m\u001b[0m\u001b[0;34m\u001b[0m\u001b[0m\n",
      "\u001b[0;32m~/.local/lib/python3.8/site-packages/xgboost/sklearn.py\u001b[0m in \u001b[0;36mfit\u001b[0;34m(self, X, y, sample_weight, base_margin, eval_set, eval_metric, early_stopping_rounds, verbose, xgb_model, sample_weight_eval_set, feature_weights, callbacks)\u001b[0m\n\u001b[1;32m    887\u001b[0m                                  label_encoder_deprecation_msg)\n\u001b[1;32m    888\u001b[0m             \u001b[0mwarnings\u001b[0m\u001b[0;34m.\u001b[0m\u001b[0mwarn\u001b[0m\u001b[0;34m(\u001b[0m\u001b[0mlabel_encoder_deprecation_msg\u001b[0m\u001b[0;34m,\u001b[0m \u001b[0mUserWarning\u001b[0m\u001b[0;34m)\u001b[0m\u001b[0;34m\u001b[0m\u001b[0;34m\u001b[0m\u001b[0m\n\u001b[0;32m--> 889\u001b[0;31m             \u001b[0mself\u001b[0m\u001b[0;34m.\u001b[0m\u001b[0m_le\u001b[0m \u001b[0;34m=\u001b[0m \u001b[0mXGBoostLabelEncoder\u001b[0m\u001b[0;34m(\u001b[0m\u001b[0;34m)\u001b[0m\u001b[0;34m.\u001b[0m\u001b[0mfit\u001b[0m\u001b[0;34m(\u001b[0m\u001b[0my\u001b[0m\u001b[0;34m)\u001b[0m\u001b[0;34m\u001b[0m\u001b[0;34m\u001b[0m\u001b[0m\n\u001b[0m\u001b[1;32m    890\u001b[0m             \u001b[0mlabel_transform\u001b[0m \u001b[0;34m=\u001b[0m \u001b[0mself\u001b[0m\u001b[0;34m.\u001b[0m\u001b[0m_le\u001b[0m\u001b[0;34m.\u001b[0m\u001b[0mtransform\u001b[0m\u001b[0;34m\u001b[0m\u001b[0;34m\u001b[0m\u001b[0m\n\u001b[1;32m    891\u001b[0m         \u001b[0;32melse\u001b[0m\u001b[0;34m:\u001b[0m\u001b[0;34m\u001b[0m\u001b[0;34m\u001b[0m\u001b[0m\n",
      "\u001b[0;32m~/.local/lib/python3.8/site-packages/sklearn/preprocessing/_label.py\u001b[0m in \u001b[0;36mfit\u001b[0;34m(self, y)\u001b[0m\n\u001b[1;32m     98\u001b[0m         \u001b[0mself\u001b[0m \u001b[0;34m:\u001b[0m \u001b[0mreturns\u001b[0m \u001b[0man\u001b[0m \u001b[0minstance\u001b[0m \u001b[0mof\u001b[0m \u001b[0mself\u001b[0m\u001b[0;34m.\u001b[0m\u001b[0;34m\u001b[0m\u001b[0;34m\u001b[0m\u001b[0m\n\u001b[1;32m     99\u001b[0m         \"\"\"\n\u001b[0;32m--> 100\u001b[0;31m         \u001b[0my\u001b[0m \u001b[0;34m=\u001b[0m \u001b[0mcolumn_or_1d\u001b[0m\u001b[0;34m(\u001b[0m\u001b[0my\u001b[0m\u001b[0;34m,\u001b[0m \u001b[0mwarn\u001b[0m\u001b[0;34m=\u001b[0m\u001b[0;32mTrue\u001b[0m\u001b[0;34m)\u001b[0m\u001b[0;34m\u001b[0m\u001b[0;34m\u001b[0m\u001b[0m\n\u001b[0m\u001b[1;32m    101\u001b[0m         \u001b[0mself\u001b[0m\u001b[0;34m.\u001b[0m\u001b[0mclasses_\u001b[0m \u001b[0;34m=\u001b[0m \u001b[0m_unique\u001b[0m\u001b[0;34m(\u001b[0m\u001b[0my\u001b[0m\u001b[0;34m)\u001b[0m\u001b[0;34m\u001b[0m\u001b[0;34m\u001b[0m\u001b[0m\n\u001b[1;32m    102\u001b[0m         \u001b[0;32mreturn\u001b[0m \u001b[0mself\u001b[0m\u001b[0;34m\u001b[0m\u001b[0;34m\u001b[0m\u001b[0m\n",
      "\u001b[0;32m~/.local/lib/python3.8/site-packages/sklearn/utils/validation.py\u001b[0m in \u001b[0;36minner_f\u001b[0;34m(*args, **kwargs)\u001b[0m\n\u001b[1;32m     61\u001b[0m             \u001b[0mextra_args\u001b[0m \u001b[0;34m=\u001b[0m \u001b[0mlen\u001b[0m\u001b[0;34m(\u001b[0m\u001b[0margs\u001b[0m\u001b[0;34m)\u001b[0m \u001b[0;34m-\u001b[0m \u001b[0mlen\u001b[0m\u001b[0;34m(\u001b[0m\u001b[0mall_args\u001b[0m\u001b[0;34m)\u001b[0m\u001b[0;34m\u001b[0m\u001b[0;34m\u001b[0m\u001b[0m\n\u001b[1;32m     62\u001b[0m             \u001b[0;32mif\u001b[0m \u001b[0mextra_args\u001b[0m \u001b[0;34m<=\u001b[0m \u001b[0;36m0\u001b[0m\u001b[0;34m:\u001b[0m\u001b[0;34m\u001b[0m\u001b[0;34m\u001b[0m\u001b[0m\n\u001b[0;32m---> 63\u001b[0;31m                 \u001b[0;32mreturn\u001b[0m \u001b[0mf\u001b[0m\u001b[0;34m(\u001b[0m\u001b[0;34m*\u001b[0m\u001b[0margs\u001b[0m\u001b[0;34m,\u001b[0m \u001b[0;34m**\u001b[0m\u001b[0mkwargs\u001b[0m\u001b[0;34m)\u001b[0m\u001b[0;34m\u001b[0m\u001b[0;34m\u001b[0m\u001b[0m\n\u001b[0m\u001b[1;32m     64\u001b[0m \u001b[0;34m\u001b[0m\u001b[0m\n\u001b[1;32m     65\u001b[0m             \u001b[0;31m# extra_args > 0\u001b[0m\u001b[0;34m\u001b[0m\u001b[0;34m\u001b[0m\u001b[0;34m\u001b[0m\u001b[0m\n",
      "\u001b[0;32m~/.local/lib/python3.8/site-packages/sklearn/utils/validation.py\u001b[0m in \u001b[0;36mcolumn_or_1d\u001b[0;34m(y, warn)\u001b[0m\n\u001b[1;32m    862\u001b[0m         \u001b[0;32mreturn\u001b[0m \u001b[0mnp\u001b[0m\u001b[0;34m.\u001b[0m\u001b[0mravel\u001b[0m\u001b[0;34m(\u001b[0m\u001b[0my\u001b[0m\u001b[0;34m)\u001b[0m\u001b[0;34m\u001b[0m\u001b[0;34m\u001b[0m\u001b[0m\n\u001b[1;32m    863\u001b[0m \u001b[0;34m\u001b[0m\u001b[0m\n\u001b[0;32m--> 864\u001b[0;31m     raise ValueError(\n\u001b[0m\u001b[1;32m    865\u001b[0m         \u001b[0;34m\"y should be a 1d array, \"\u001b[0m\u001b[0;34m\u001b[0m\u001b[0;34m\u001b[0m\u001b[0m\n\u001b[1;32m    866\u001b[0m         \"got an array of shape {} instead.\".format(shape))\n",
      "\u001b[0;31mValueError\u001b[0m: y should be a 1d array, got an array of shape (1, 1000) instead."
     ]
    }
   ],
   "source": [
    "# Получите предсказания на тестовом и на обучающем множестве\n",
    "clf = XGBClassifier()\n",
    "clf.fit(embds_train, target_train)\n",
    "\n",
    "predicted = clf.predict(embds_test)\n"
   ]
  },
  {
   "cell_type": "code",
   "execution_count": null,
   "metadata": {},
   "outputs": [],
   "source": [
    "# С помощью функции accuracy_score оцените результаты\n",
    "accuracy_score(target_test, predicted)"
   ]
  },
  {
   "cell_type": "markdown",
   "metadata": {},
   "source": [
    "Почитайте про параметры XGBoost здесь: https://sites.google.com/view/lauraepp/parameters\n",
    "Сделайте тюнинг гиперпараметров для XGBoost:\n",
    "1. Подберите максимальный num_iterations при котором скор на валидации близок к максимальному, а скорость обучения ещё приемлимая\n",
    "2. Для заданного num_iterations подберите подходящий learning rate\n",
    "3. С помощью библиотеки hyperopt подберите остальные гиперпараметры при фиксимрованных num_iterations и learning_rate. Не подбирайте параметр early_stopping"
   ]
  },
  {
   "cell_type": "code",
   "execution_count": null,
   "metadata": {},
   "outputs": [],
   "source": []
  },
  {
   "cell_type": "markdown",
   "metadata": {},
   "source": [
    "Оцените важность признаков с помощью поля feature_importances_\n",
    "\n",
    "Пользуясь списком https://gist.github.com/yrevar/942d3a0ac09ec9e5eb3a посмотрите, какие классы оказались наиболее важными (со значениями importance больше 0)\n",
    "    \n",
    "Изменяйте параметры, чтобы оставить только действительно важные признаки"
   ]
  },
  {
   "cell_type": "code",
   "execution_count": null,
   "metadata": {},
   "outputs": [],
   "source": []
  }
 ],
 "metadata": {
  "kernelspec": {
   "name": "python385jvsc74a57bd0916dbcbb3f70747c44a77c7bcd40155683ae19c65e1c03b4aa3499c5328201f1",
   "display_name": "Python 3.8.5 64-bit"
  },
  "language_info": {
   "codemirror_mode": {
    "name": "ipython",
    "version": 3
   },
   "file_extension": ".py",
   "mimetype": "text/x-python",
   "name": "python",
   "nbconvert_exporter": "python",
   "pygments_lexer": "ipython3",
   "version": "3.8.5"
  },
  "metadata": {
   "interpreter": {
    "hash": "916dbcbb3f70747c44a77c7bcd40155683ae19c65e1c03b4aa3499c5328201f1"
   }
  }
 },
 "nbformat": 4,
 "nbformat_minor": 4
}